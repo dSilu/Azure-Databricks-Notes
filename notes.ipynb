{
 "cells": [
  {
   "attachments": {},
   "cell_type": "markdown",
   "metadata": {},
   "source": [
    "### How To\n",
    "\n",
    "1. [How To Create Azure Blob Storage Account](https://docs.microsoft.com/en-us/azure/storage/common/storage-account-create?tabs=azure-portal)\n",
    "\n",
    "2. [Create ADLS Gen2 Storage Account](https://learn.microsoft.com/en-us/azure/storage/blobs/create-data-lake-storage-account)\n",
    "\n",
    "3. [Create Service Principle (SP)](https://learn.microsoft.com/en-us/azure/purview/create-service-principal-azure)\n",
    "\n",
    "    - SP helps to mount ADLS Gen2 Account to DBFS.\n",
    "\n",
    "4. Find Storage Key: \n",
    "\n",
    "    - Go to Resource group > Select the storage account > Click on *Access keys* under Settings (left panel) > *Show keys* > copy the *Key1*.\n",
    "\n"
   ]
  }
 ],
 "metadata": {
  "language_info": {
   "name": "python"
  },
  "orig_nbformat": 4
 },
 "nbformat": 4,
 "nbformat_minor": 2
}
