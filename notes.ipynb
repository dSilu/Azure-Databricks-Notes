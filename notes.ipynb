{
 "cells": [
  {
   "attachments": {},
   "cell_type": "markdown",
   "metadata": {},
   "source": [
    "### How To\n",
    "\n",
    "1. [Create Azure Blob Storage Account](https://docs.microsoft.com/en-us/azure/storage/common/storage-account-create?tabs=azure-portal)\n",
    "\n",
    "2. [Create ADLS Gen2 Storage Account](https://learn.microsoft.com/en-us/azure/storage/blobs/create-data-lake-storage-account)\n",
    "\n",
    "3. [Create Service Principle (SP)](https://learn.microsoft.com/en-us/azure/purview/create-service-principal-azure)\n",
    "\n",
    "    - SP helps to mount ADLS Gen2 Account to DBFS.\n",
    "\n",
    "4. Find Storage Key: \n",
    "\n",
    "    - Go to Resource group > Select the storage account > Click on *Access keys* under Settings (left panel) > *Show keys* > copy the *Key1*.\n",
    "\n",
    "5. [Create Azure SQL Database](https://learn.microsoft.com/en-us/azure/azure-sql/database/single-database-create-quickstart?tabs=azure-portal&view=azuresql)\n",
    "\n",
    "6. [Azure SQL Connectivity Settings](https://learn.microsoft.com/en-gb/azure/azure-sql/database/connectivity-settings?view=azuresql&tabs=azure-portal#deny-public-network-access)\n",
    "\n",
    "7. [Create Private Endpoint](https://learn.microsoft.com/en-us/azure/private-link/create-private-endpoint-portal?tabs=dynamic-ip)"
   ]
  },
  {
   "cell_type": "markdown",
   "metadata": {},
   "source": []
  }
 ],
 "metadata": {
  "kernelspec": {
   "display_name": "etl_env",
   "language": "python",
   "name": "python3"
  },
  "language_info": {
   "name": "python",
   "version": "3.10.9 (main, Dec  7 2022, 00:00:00) [GCC 12.2.1 20221121 (Red Hat 12.2.1-4)]"
  },
  "orig_nbformat": 4,
  "vscode": {
   "interpreter": {
    "hash": "260d2b2caeea23125a4e11e934529abae680d44bef97a2be123f2d73e9d6e807"
   }
  }
 },
 "nbformat": 4,
 "nbformat_minor": 2
}
